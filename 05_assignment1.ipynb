{
 "cells": [
  {
   "cell_type": "code",
   "execution_count": 1,
   "id": "d0a60390-cd64-4c1f-ad94-729532f5236f",
   "metadata": {},
   "outputs": [],
   "source": [
    "# ques 1:\n",
    "l = [\"yudhishter kumar\",23.32,[23,21,3,True],(\"abc\",23)]"
   ]
  },
  {
   "cell_type": "code",
   "execution_count": 2,
   "id": "50f60faa-3e7d-4066-8fec-d7b99d8c57dd",
   "metadata": {},
   "outputs": [
    {
     "data": {
      "text/plain": [
       "['yudhishter kumar', 23.32, [23, 21, 3, True], ('abc', 23)]"
      ]
     },
     "execution_count": 2,
     "metadata": {},
     "output_type": "execute_result"
    }
   ],
   "source": [
    "l"
   ]
  },
  {
   "cell_type": "code",
   "execution_count": 10,
   "id": "12c38ac6-7b75-4629-bd66-45df49f15002",
   "metadata": {},
   "outputs": [],
   "source": [
    "# Ques 2\n",
    "\n",
    "var1 = ''#string\n",
    "var2 = '[ DS , ML , Python]'#string\n",
    "var3 = [ 'DS' , 'ML' , 'Python' ]#list\n",
    "var4 = 1#integer"
   ]
  },
  {
   "cell_type": "code",
   "execution_count": 11,
   "id": "c2be98a7-23e0-47a5-9544-498e658cdd61",
   "metadata": {},
   "outputs": [
    {
     "data": {
      "text/plain": [
       "str"
      ]
     },
     "execution_count": 11,
     "metadata": {},
     "output_type": "execute_result"
    }
   ],
   "source": [
    "type(var1)"
   ]
  },
  {
   "cell_type": "code",
   "execution_count": 12,
   "id": "240b7131-be9d-47b7-a3d7-d037e2d10709",
   "metadata": {},
   "outputs": [
    {
     "data": {
      "text/plain": [
       "str"
      ]
     },
     "execution_count": 12,
     "metadata": {},
     "output_type": "execute_result"
    }
   ],
   "source": [
    "type(var2)"
   ]
  },
  {
   "cell_type": "code",
   "execution_count": 13,
   "id": "39433221-ea69-409a-b87b-efa4c830b98c",
   "metadata": {},
   "outputs": [
    {
     "data": {
      "text/plain": [
       "list"
      ]
     },
     "execution_count": 13,
     "metadata": {},
     "output_type": "execute_result"
    }
   ],
   "source": [
    "type(var3)"
   ]
  },
  {
   "cell_type": "code",
   "execution_count": 15,
   "id": "8523da05-5fd5-4f9d-b962-c613e7729bbc",
   "metadata": {},
   "outputs": [
    {
     "data": {
      "text/plain": [
       "int"
      ]
     },
     "execution_count": 15,
     "metadata": {},
     "output_type": "execute_result"
    }
   ],
   "source": [
    "type(var4)"
   ]
  },
  {
   "cell_type": "code",
   "execution_count": 16,
   "id": "6d75f668-2696-4d84-84e8-cd387d9ebc55",
   "metadata": {},
   "outputs": [],
   "source": [
    "# Ques 3:"
   ]
  },
  {
   "cell_type": "code",
   "execution_count": 17,
   "id": "3b4c3406-b489-4065-9c02-4e248e151fb5",
   "metadata": {},
   "outputs": [
    {
     "data": {
      "text/plain": [
       "0.6666666666666666"
      ]
     },
     "execution_count": 17,
     "metadata": {},
     "output_type": "execute_result"
    }
   ],
   "source": [
    "2/3#to divide two numbers"
   ]
  },
  {
   "cell_type": "code",
   "execution_count": 18,
   "id": "863b35fa-c820-4ae0-80a0-2db6f0856357",
   "metadata": {},
   "outputs": [
    {
     "data": {
      "text/plain": [
       "1"
      ]
     },
     "execution_count": 18,
     "metadata": {},
     "output_type": "execute_result"
    }
   ],
   "source": [
    "3%2# to find remainder"
   ]
  },
  {
   "cell_type": "code",
   "execution_count": 19,
   "id": "e3509367-acda-4336-9743-c6f3615ab64b",
   "metadata": {},
   "outputs": [
    {
     "data": {
      "text/plain": [
       "8"
      ]
     },
     "execution_count": 19,
     "metadata": {},
     "output_type": "execute_result"
    }
   ],
   "source": [
    "2**3#two to the power 2^3"
   ]
  },
  {
   "cell_type": "code",
   "execution_count": 21,
   "id": "2c0a2d8d-2b3c-4c00-9649-0eabb820d616",
   "metadata": {},
   "outputs": [
    {
     "data": {
      "text/plain": [
       "1"
      ]
     },
     "execution_count": 21,
     "metadata": {},
     "output_type": "execute_result"
    }
   ],
   "source": [
    "4//3\n",
    "# The division of operands where the result is the quotient in which\n",
    "# the digits after the decimal point are removed. But if one of the operands is \n",
    "# negative, the result is floored , i.e., rounded away from zero (towards negative infinity)"
   ]
  },
  {
   "cell_type": "code",
   "execution_count": 27,
   "id": "d0d80c40-56a8-4292-817f-bbfcbcd2297d",
   "metadata": {},
   "outputs": [],
   "source": [
    "# Ques 4. Create a list of length 10 of your choice containing multiple types of data. \n",
    "# Using for loop print the element and its data type.\n",
    "l1 = [12,3,13,1,31,3,True,\"abc\",23.43,'a']"
   ]
  },
  {
   "cell_type": "code",
   "execution_count": 29,
   "id": "9efdd153-16a4-4d52-ad12-eb1359f22a7d",
   "metadata": {},
   "outputs": [
    {
     "name": "stdout",
     "output_type": "stream",
     "text": [
      "12\n",
      "3\n",
      "13\n",
      "1\n",
      "31\n",
      "3\n",
      "True\n",
      "abc\n",
      "23.43\n",
      "a\n"
     ]
    }
   ],
   "source": [
    "for i in l1:\n",
    "    print(i)"
   ]
  },
  {
   "cell_type": "code",
   "execution_count": 43,
   "id": "e1f1fa4f-563e-4ffc-a640-4c2dde6382d0",
   "metadata": {},
   "outputs": [
    {
     "name": "stdout",
     "output_type": "stream",
     "text": [
      "numA is divisible by numB by \n",
      "1\n",
      "times\n"
     ]
    }
   ],
   "source": [
    "# Ques 5. Using a while loop, verify if the number A is purely divisible by number B and\n",
    "# if so then how many times it can be divisible.\n",
    "numA = 90\n",
    "numB = 5\n",
    "count = 0;\n",
    "if numA%numB == 0:\n",
    "    while numA%numB == 0:\n",
    "            count+=1\n",
    "            numA=numA/numB\n",
    "    print(\"numA is divisible by numB by \")\n",
    "    print(count)\n",
    "    print(\"times\")\n",
    "else:\n",
    "    print(\"numA is not divisible by numB\")\n"
   ]
  },
  {
   "cell_type": "code",
   "execution_count": 47,
   "id": "223dd3b2-087d-4d22-9ce6-0febabd126ea",
   "metadata": {},
   "outputs": [
    {
     "name": "stdout",
     "output_type": "stream",
     "text": [
      "12\n",
      "3\n",
      "234\n",
      "24\n",
      "24\n",
      "24\n",
      "345\n",
      "6\n",
      "3\n",
      "321\n",
      "33\n",
      "90\n",
      "87\n",
      "36\n"
     ]
    }
   ],
   "source": [
    "# Q6. Create a list containing 25 int type data. Using for loop and if-else condition\n",
    "# print if the element is divisible by 3 or not.\n",
    "l3=[12,3,234,2,34,24,43,24,24,2,4,345,4,6,457,457,3,34,321,34,65,33,90,87,36]\n",
    "for i in l3:\n",
    "    if i%3==0:\n",
    "        print(i)"
   ]
  },
  {
   "cell_type": "code",
   "execution_count": 48,
   "id": "2d54eeaf-ce4b-41ac-ae20-d705baa10c2d",
   "metadata": {},
   "outputs": [],
   "source": [
    "# Ques 7. What do you understand about mutable and immutable data types?\n",
    "# Give examples for both showing this property.\n",
    "l5 = [2,3,4,\"sudh\",3.034,3+4j,True,34,4234]\n"
   ]
  },
  {
   "cell_type": "code",
   "execution_count": 51,
   "id": "07356c50-1ad5-403b-b7b9-97d0fbcaae7b",
   "metadata": {},
   "outputs": [],
   "source": [
    "l5[2] = \"pwskills\"\n",
    "# list ismutable as we change data on their index"
   ]
  },
  {
   "cell_type": "code",
   "execution_count": 52,
   "id": "0da2cfe7-ebcf-4335-8bc1-894b059f2985",
   "metadata": {},
   "outputs": [
    {
     "data": {
      "text/plain": [
       "[2, 3, 'pwskills', 'sudh', 3.034, (3+4j), True, 34, 4234]"
      ]
     },
     "execution_count": 52,
     "metadata": {},
     "output_type": "execute_result"
    }
   ],
   "source": [
    "l5"
   ]
  },
  {
   "cell_type": "code",
   "execution_count": 53,
   "id": "e0539c9b-43c8-44f6-93f3-4849c8bef95f",
   "metadata": {},
   "outputs": [],
   "source": [
    "s = \"pwskills\""
   ]
  },
  {
   "cell_type": "code",
   "execution_count": 57,
   "id": "a39781ca-b48f-4511-b0a3-688be6383096",
   "metadata": {},
   "outputs": [
    {
     "ename": "TypeError",
     "evalue": "'str' object does not support item assignment",
     "output_type": "error",
     "traceback": [
      "\u001b[0;31m---------------------------------------------------------------------------\u001b[0m",
      "\u001b[0;31mTypeError\u001b[0m                                 Traceback (most recent call last)",
      "Cell \u001b[0;32mIn[57], line 1\u001b[0m\n\u001b[0;32m----> 1\u001b[0m \u001b[43ms\u001b[49m\u001b[43m[\u001b[49m\u001b[38;5;241;43m2\u001b[39;49m\u001b[43m]\u001b[49m \u001b[38;5;241m=\u001b[39m \u001b[38;5;124m'\u001b[39m\u001b[38;5;124mm\u001b[39m\u001b[38;5;124m'\u001b[39m\n",
      "\u001b[0;31mTypeError\u001b[0m: 'str' object does not support item assignment"
     ]
    }
   ],
   "source": [
    "s[2] = 'm'\n",
    "# string is immutable as we can't change data in their index"
   ]
  },
  {
   "cell_type": "code",
   "execution_count": null,
   "id": "1109393f-0750-476f-829c-9fb94c8707cd",
   "metadata": {},
   "outputs": [],
   "source": []
  }
 ],
 "metadata": {
  "kernelspec": {
   "display_name": "Python 3 (ipykernel)",
   "language": "python",
   "name": "python3"
  },
  "language_info": {
   "codemirror_mode": {
    "name": "ipython",
    "version": 3
   },
   "file_extension": ".py",
   "mimetype": "text/x-python",
   "name": "python",
   "nbconvert_exporter": "python",
   "pygments_lexer": "ipython3",
   "version": "3.10.8"
  }
 },
 "nbformat": 4,
 "nbformat_minor": 5
}
