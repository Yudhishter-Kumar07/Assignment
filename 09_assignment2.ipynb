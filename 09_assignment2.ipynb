{
 "cells": [
  {
   "cell_type": "code",
   "execution_count": 1,
   "id": "0510732f-10a5-47b7-a582-3cb460efb795",
   "metadata": {},
   "outputs": [],
   "source": [
    "# Q1. How do you comment code in Python? What are the different types of comments?"
   ]
  },
  {
   "cell_type": "code",
   "execution_count": 2,
   "id": "61b76f4a-f6f4-4a38-85aa-fd5743cf99ec",
   "metadata": {},
   "outputs": [],
   "source": [
    "# 1) we comment code in python by putting hash(#) in front of line \n",
    "# 2) we comment using ''' ''' or '' '' "
   ]
  },
  {
   "cell_type": "code",
   "execution_count": null,
   "id": "426994f5-a332-47c8-a63f-b8cb42f938e5",
   "metadata": {},
   "outputs": [],
   "source": [
    "# Q2. What are variables in Python? How do you declare and assign\n",
    "# values to variables?\n",
    "# variable is a container which stores data"
   ]
  },
  {
   "cell_type": "code",
   "execution_count": null,
   "id": "b819d8fa-1090-4f5b-b691-2d9968a5c35c",
   "metadata": {},
   "outputs": [],
   "source": []
  },
  {
   "cell_type": "code",
   "execution_count": 3,
   "id": "0c872134-45a5-414a-919d-86d35edd4886",
   "metadata": {},
   "outputs": [],
   "source": [
    "# Q3. How do you convert one data type to another in Python?\n",
    "# we convert one datatype to anothe by typecast it\n",
    "a=90.34\n",
    "b = int(a)"
   ]
  },
  {
   "cell_type": "code",
   "execution_count": 4,
   "id": "e571bc2f-7755-4ffc-b277-00436a8e5c57",
   "metadata": {},
   "outputs": [
    {
     "data": {
      "text/plain": [
       "90"
      ]
     },
     "execution_count": 4,
     "metadata": {},
     "output_type": "execute_result"
    }
   ],
   "source": [
    "b"
   ]
  },
  {
   "cell_type": "code",
   "execution_count": 5,
   "id": "9be78a12-890f-4380-aaff-1c061f1d8c15",
   "metadata": {},
   "outputs": [],
   "source": [
    "# in this we typecast float to int by losing value after point"
   ]
  },
  {
   "cell_type": "code",
   "execution_count": 6,
   "id": "96fe8ed0-4e66-41cb-ae31-c2db3996b117",
   "metadata": {},
   "outputs": [],
   "source": [
    "# Q4. How do you write and execute a Python script from the command line?"
   ]
  },
  {
   "cell_type": "code",
   "execution_count": null,
   "id": "91b5ad8b-71f7-47c4-b0a2-99801f40670d",
   "metadata": {},
   "outputs": [],
   "source": [
    "'''To write and execute a Python script from the command line, follow these steps:\n",
    "\n",
    "1. Open a text editor and create a new file with a .py extension. For example, you can \n",
    "use script.py.\n",
    "\n",
    "2. Write your Python code in the script file using the text editor. For example, you can\n",
    "write a simple \"Hello, World!\" program:\n",
    "\n",
    "3. Save the script file after writing the code.\n",
    "\n",
    "4. Open a command-line interface such as the Terminal (Mac/Linux) or Command Prompt (Windows).\n",
    "\n",
    "5. Navigate to the directory where the script file is located using the cd command.\n",
    "\n",
    "6. Once you are in the correct directory, you can execute the Python script by typing\n",
    "python followed by the script's filename. For example:\n",
    "\n",
    "   python script.py\n",
    "  \n",
    "\n",
    "7. Press Enter to run the command. The Python interpreter will execute the script, \n",
    "and you should see the output in the command-line interface.'''"
   ]
  },
  {
   "cell_type": "code",
   "execution_count": null,
   "id": "50ecb9f0-afe1-4d81-ba5d-d8ad9bbfd8ff",
   "metadata": {},
   "outputs": [],
   "source": []
  },
  {
   "cell_type": "code",
   "execution_count": null,
   "id": "65dc9b65-2ce8-4ab3-9751-ed7e4ec9c929",
   "metadata": {},
   "outputs": [],
   "source": [
    "# Q5. Given a list my_list = [1, 2, 3, 4, 5], write the code to slice\n",
    "# the list and obtain the sub-list [2, 3]."
   ]
  },
  {
   "cell_type": "code",
   "execution_count": 7,
   "id": "590a0415-97d1-49d5-8bb4-e56666bcb8f3",
   "metadata": {},
   "outputs": [],
   "source": [
    "my_list = [1, 2, 3, 4, 5]"
   ]
  },
  {
   "cell_type": "code",
   "execution_count": 8,
   "id": "b8bbd3e2-984b-4172-a36a-180e0cd9fa1e",
   "metadata": {},
   "outputs": [
    {
     "data": {
      "text/plain": [
       "[2, 3]"
      ]
     },
     "execution_count": 8,
     "metadata": {},
     "output_type": "execute_result"
    }
   ],
   "source": [
    "my_list[1:3]"
   ]
  },
  {
   "cell_type": "code",
   "execution_count": 9,
   "id": "72f736bb-29e0-4f4e-aeab-4963a4c12b81",
   "metadata": {},
   "outputs": [],
   "source": [
    "# Q6. What is a complex number in mathematics, and how is it represented in Python?"
   ]
  },
  {
   "cell_type": "code",
   "execution_count": 10,
   "id": "59668d05-0850-4ce2-a480-260fa36f594e",
   "metadata": {},
   "outputs": [],
   "source": [
    "# complex number is number which have real and imaginary part in maths\n",
    "# imaginary part is represented by iota(i) but in python same is represented by j\n"
   ]
  },
  {
   "cell_type": "code",
   "execution_count": 1,
   "id": "da15b7b5-d0d4-4f56-bf10-5968c4e312aa",
   "metadata": {},
   "outputs": [],
   "source": [
    "# in maths ----> 5+9i\n",
    "# in python--->\n",
    "m = 4+9j"
   ]
  },
  {
   "cell_type": "code",
   "execution_count": 2,
   "id": "2670b1d4-b296-4da3-9e99-f66cd2449ad5",
   "metadata": {},
   "outputs": [
    {
     "data": {
      "text/plain": [
       "(4+9j)"
      ]
     },
     "execution_count": 2,
     "metadata": {},
     "output_type": "execute_result"
    }
   ],
   "source": [
    "m"
   ]
  },
  {
   "cell_type": "code",
   "execution_count": 3,
   "id": "5291afb8-4f98-439d-a6a5-23500a1a1e32",
   "metadata": {},
   "outputs": [
    {
     "data": {
      "text/plain": [
       "4.0"
      ]
     },
     "execution_count": 3,
     "metadata": {},
     "output_type": "execute_result"
    }
   ],
   "source": [
    "m.real\n"
   ]
  },
  {
   "cell_type": "code",
   "execution_count": 4,
   "id": "d27253cd-234b-4ad7-b279-838d6c120939",
   "metadata": {},
   "outputs": [
    {
     "data": {
      "text/plain": [
       "9.0"
      ]
     },
     "execution_count": 4,
     "metadata": {},
     "output_type": "execute_result"
    }
   ],
   "source": [
    "m.imag"
   ]
  },
  {
   "cell_type": "code",
   "execution_count": 5,
   "id": "bf52eb45-b887-4f0f-a214-6cd0350a0e96",
   "metadata": {},
   "outputs": [],
   "source": [
    "# Q7. What is the correct way to declare a variable named age and assign the value 25 to it?"
   ]
  },
  {
   "cell_type": "code",
   "execution_count": 6,
   "id": "00eb6c0e-29e9-49bc-b265-291338938b0c",
   "metadata": {},
   "outputs": [],
   "source": [
    "age = 25"
   ]
  },
  {
   "cell_type": "code",
   "execution_count": 7,
   "id": "77d833dc-3dd6-42b9-8062-a4970a5cb2ca",
   "metadata": {},
   "outputs": [
    {
     "data": {
      "text/plain": [
       "25"
      ]
     },
     "execution_count": 7,
     "metadata": {},
     "output_type": "execute_result"
    }
   ],
   "source": [
    "age"
   ]
  },
  {
   "cell_type": "code",
   "execution_count": 8,
   "id": "f6d624c8-7b9a-470e-8d1a-cb1a3eb15d1b",
   "metadata": {},
   "outputs": [],
   "source": [
    "# Q8. Declare a variable named price and assign the value 9.99 to it.\n",
    "# What data type does this variable belong to?"
   ]
  },
  {
   "cell_type": "code",
   "execution_count": 9,
   "id": "638d1633-85bd-40cb-bac0-fcc6b7f52caf",
   "metadata": {},
   "outputs": [
    {
     "data": {
      "text/plain": [
       "float"
      ]
     },
     "execution_count": 9,
     "metadata": {},
     "output_type": "execute_result"
    }
   ],
   "source": [
    "price = 9.99\n",
    "type(price)"
   ]
  },
  {
   "cell_type": "code",
   "execution_count": 10,
   "id": "0e247103-2688-4524-85f8-854d82a34bc5",
   "metadata": {},
   "outputs": [],
   "source": [
    "# we clearly see this is float type variable bcz the price is in decimal form\n"
   ]
  },
  {
   "cell_type": "code",
   "execution_count": 11,
   "id": "c78f05d8-0cf6-4757-b920-74b9ac4770c4",
   "metadata": {},
   "outputs": [],
   "source": [
    "# Q9. Create a variable named name and assign your full name to it as a string. \n",
    "# How would you print the value of this variable?"
   ]
  },
  {
   "cell_type": "code",
   "execution_count": 12,
   "id": "10d10833-1e62-4cf4-b167-47e7837b8f42",
   "metadata": {},
   "outputs": [],
   "source": [
    "name = \"Yudhishter Kumar\""
   ]
  },
  {
   "cell_type": "code",
   "execution_count": 13,
   "id": "2652a7a0-177b-4295-aa8d-bb1069b8f70c",
   "metadata": {},
   "outputs": [],
   "source": [
    "# we print this using loop or direct"
   ]
  },
  {
   "cell_type": "code",
   "execution_count": 14,
   "id": "a353cee7-eb88-4bbc-b736-d252a167520b",
   "metadata": {},
   "outputs": [
    {
     "data": {
      "text/plain": [
       "'Yudhishter Kumar'"
      ]
     },
     "execution_count": 14,
     "metadata": {},
     "output_type": "execute_result"
    }
   ],
   "source": [
    "# 1)\n",
    "name"
   ]
  },
  {
   "cell_type": "code",
   "execution_count": 16,
   "id": "b2aa36c2-72bb-45c8-b9d1-a39203c67ff5",
   "metadata": {},
   "outputs": [
    {
     "name": "stdout",
     "output_type": "stream",
     "text": [
      "Y\n",
      "u\n",
      "d\n",
      "h\n",
      "i\n",
      "s\n",
      "h\n",
      "t\n",
      "e\n",
      "r\n",
      " \n",
      "K\n",
      "u\n",
      "m\n",
      "a\n",
      "r\n"
     ]
    }
   ],
   "source": [
    "for i in name:\n",
    "    print(i)"
   ]
  },
  {
   "cell_type": "code",
   "execution_count": 17,
   "id": "a2c606ad-1751-4b7a-9fd3-b45bd29fbe39",
   "metadata": {},
   "outputs": [],
   "source": [
    "# Q10. Given the string \"Hello, World!\", extract the substring \"World\"."
   ]
  },
  {
   "cell_type": "code",
   "execution_count": 23,
   "id": "cab7bddc-0d80-49d8-a434-3f88ef35c552",
   "metadata": {},
   "outputs": [
    {
     "data": {
      "text/plain": [
       "'World'"
      ]
     },
     "execution_count": 23,
     "metadata": {},
     "output_type": "execute_result"
    }
   ],
   "source": [
    "s = \"Hello, World!\"\n",
    "s[7:-1]"
   ]
  },
  {
   "cell_type": "code",
   "execution_count": 25,
   "id": "1dcfb8c6-5d00-4337-bf77-39d82603ea2d",
   "metadata": {},
   "outputs": [],
   "source": [
    "# Q11. Create a variable named \"is_student\" and assign it a boolean value indicating\n",
    "# whether you are currently a student or not."
   ]
  },
  {
   "cell_type": "code",
   "execution_count": 30,
   "id": "58967b3b-a5d7-4d6f-909b-06e5b6aae22e",
   "metadata": {},
   "outputs": [
    {
     "name": "stdin",
     "output_type": "stream",
     "text": [
      "enter price  90\n"
     ]
    },
    {
     "name": "stdout",
     "output_type": "stream",
     "text": [
      "i am not a student\n"
     ]
    }
   ],
   "source": [
    "is_student = int(input(\"enter price \" ))\n",
    "\n",
    "if is_student == 1:\n",
    "    print(\"Yes i am a student\")\n",
    "else:\n",
    "    print(\"i am not a student\")"
   ]
  },
  {
   "cell_type": "code",
   "execution_count": null,
   "id": "51abe0fb-900b-4973-80fc-7c1b41c3d3c3",
   "metadata": {},
   "outputs": [],
   "source": []
  }
 ],
 "metadata": {
  "kernelspec": {
   "display_name": "Python 3 (ipykernel)",
   "language": "python",
   "name": "python3"
  },
  "language_info": {
   "codemirror_mode": {
    "name": "ipython",
    "version": 3
   },
   "file_extension": ".py",
   "mimetype": "text/x-python",
   "name": "python",
   "nbconvert_exporter": "python",
   "pygments_lexer": "ipython3",
   "version": "3.10.8"
  }
 },
 "nbformat": 4,
 "nbformat_minor": 5
}
