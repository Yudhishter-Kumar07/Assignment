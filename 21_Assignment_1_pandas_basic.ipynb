{
 "cells": [
  {
   "cell_type": "code",
   "execution_count": 1,
   "id": "65bc014f-4abe-42f4-9464-855b85286db5",
   "metadata": {},
   "outputs": [],
   "source": [
    "import pandas as pd"
   ]
  },
  {
   "cell_type": "code",
   "execution_count": 2,
   "id": "657cbf2b-5dcf-4bca-84cd-b5368478c942",
   "metadata": {},
   "outputs": [],
   "source": [
    "# Q1. Create a Pandas Series that contains the following data: 4, 8, 15, 16, 23, and 42. Then, print the series.\n",
    "data = [4,8,15,16,23,42]\n",
    "data_series = pd.Series(data)"
   ]
  },
  {
   "cell_type": "code",
   "execution_count": 3,
   "id": "655ba4e4-91ae-4f6f-9816-4a205df06c82",
   "metadata": {},
   "outputs": [
    {
     "name": "stdout",
     "output_type": "stream",
     "text": [
      "0     4\n",
      "1     8\n",
      "2    15\n",
      "3    16\n",
      "4    23\n",
      "5    42\n",
      "dtype: int64\n"
     ]
    }
   ],
   "source": [
    "print(data_series)"
   ]
  },
  {
   "cell_type": "code",
   "execution_count": 4,
   "id": "25f8d1df-2ce2-4f9f-be5e-3896ff129fc8",
   "metadata": {},
   "outputs": [],
   "source": [
    "# Q2. Create a variable of list type containing 10 elements in it, and apply pandas.Series function on the\n",
    "# variable print it."
   ]
  },
  {
   "cell_type": "code",
   "execution_count": 5,
   "id": "2f5a6f30-2543-4d54-93b9-1887d3cd142d",
   "metadata": {},
   "outputs": [],
   "source": [
    "data2=[1,2,3,4,5,6,7,8,9,98]\n",
    "data2_ser = pd.Series(data2)"
   ]
  },
  {
   "cell_type": "code",
   "execution_count": 6,
   "id": "527dd6e9-afed-4b21-b361-e90f4a071b09",
   "metadata": {},
   "outputs": [
    {
     "name": "stdout",
     "output_type": "stream",
     "text": [
      "0     1\n",
      "1     2\n",
      "2     3\n",
      "3     4\n",
      "4     5\n",
      "5     6\n",
      "6     7\n",
      "7     8\n",
      "8     9\n",
      "9    98\n",
      "dtype: int64\n"
     ]
    }
   ],
   "source": [
    "print(data2_ser)"
   ]
  },
  {
   "cell_type": "code",
   "execution_count": 7,
   "id": "a55e97fa-9d52-4b5b-851f-e2ee5a7848b2",
   "metadata": {},
   "outputs": [],
   "source": [
    "# Q3 Create a Pandas DataFrame that contains the following data:\n",
    "# Then, print the DataFrame.\n"
   ]
  },
  {
   "cell_type": "code",
   "execution_count": 10,
   "id": "2895d8bf-eb9c-4f1c-8f18-6b09c724b384",
   "metadata": {},
   "outputs": [],
   "source": [
    "# Sample dictionary data\n",
    "data3_dict = {'Name':['Alice','bob','claire'],\n",
    "              'Age':[25,30,27],\n",
    "              'Gender':['Female','Male','Female']\n",
    "                }"
   ]
  },
  {
   "cell_type": "code",
   "execution_count": 12,
   "id": "5c8cd237-fd07-4d8b-bbed-ccdc1f55c7b6",
   "metadata": {},
   "outputs": [],
   "source": [
    "# Creating a DataFrame from the dictionary\n",
    "data3_frame=pd.DataFrame(data3_dict)"
   ]
  },
  {
   "cell_type": "code",
   "execution_count": 13,
   "id": "c27ac243-b1d1-472c-b629-d605da46a9dd",
   "metadata": {},
   "outputs": [
    {
     "name": "stdout",
     "output_type": "stream",
     "text": [
      "     Name  Age  Gender\n",
      "0   Alice   25  Female\n",
      "1     bob   30    Male\n",
      "2  claire   27  Female\n"
     ]
    }
   ],
   "source": [
    "print(data3_frame)"
   ]
  },
  {
   "cell_type": "code",
   "execution_count": 14,
   "id": "3b36ba47-4663-40b9-91fe-4b1e898f5594",
   "metadata": {},
   "outputs": [],
   "source": [
    "# Q4. What is ‘DataFrame’ in pandas and how is it different from pandas.series? Explain with an example."
   ]
  },
  {
   "cell_type": "code",
   "execution_count": 15,
   "id": "17c2a1fc-ac76-420b-936d-bc8c431c1d29",
   "metadata": {},
   "outputs": [],
   "source": [
    "# In pandas, a DataFrame is a 2-dimensional labeled data structure that can hold data of different types (integers, strings, floats, etc.).\n",
    "# It is similar to a spreadsheet or SQL table, where data is organized in rows and columns. Each column in a DataFrame is a pandas Series,\n",
    "# and the DataFrame provides a way to store and manipulate multiple Series together.\n",
    "# A pandas Series is a 1-dimensional labeled array, as mentioned earlier, which is similar to a single column in a DataFrame. \n",
    "# It is capable of holding data of a single data type and is indexed, allowing for easy access and manipulation of data."
   ]
  },
  {
   "cell_type": "code",
   "execution_count": 16,
   "id": "8598b60e-037a-4f00-bda5-3dca1759871f",
   "metadata": {},
   "outputs": [
    {
     "name": "stdout",
     "output_type": "stream",
     "text": [
      "DataFrame:\n",
      "      Name  Age           City\n",
      "0    Alice   25       New York\n",
      "1      Bob   30  San Francisco\n",
      "2  Charlie   22        Chicago\n",
      "3    David   27    Los Angeles\n",
      "\n",
      "Series:\n",
      "0    25\n",
      "1    30\n",
      "2    22\n",
      "3    27\n",
      "Name: Age, dtype: int64\n"
     ]
    }
   ],
   "source": [
    "# Sample dictionary data for creating DataFrame\n",
    "data_dict = {\n",
    "    'Name': ['Alice', 'Bob', 'Charlie', 'David'],\n",
    "    'Age': [25, 30, 22, 27],\n",
    "    'City': ['New York', 'San Francisco', 'Chicago', 'Los Angeles']\n",
    "}\n",
    "\n",
    "# Creating a DataFrame from the dictionary\n",
    "df = pd.DataFrame(data_dict)\n",
    "\n",
    "# Creating a Series\n",
    "ages_series = pd.Series([25, 30, 22, 27], name='Age')\n",
    "\n",
    "# Printing the DataFrame and the Series\n",
    "print(\"DataFrame:\")\n",
    "print(df)\n",
    "print(\"\\nSeries:\")\n",
    "print(ages_series)\n"
   ]
  },
  {
   "cell_type": "code",
   "execution_count": 17,
   "id": "aa9565f4-aa85-4ea1-b1e5-5d5fed62320f",
   "metadata": {},
   "outputs": [],
   "source": [
    "# Q5. What are some common functions you can use to manipulate data in a Pandas DataFrame? Can\n",
    "# you give an example of when you might use one of these functions?"
   ]
  },
  {
   "cell_type": "code",
   "execution_count": 18,
   "id": "4929864f-1753-41b5-8262-c49ad48ae1b0",
   "metadata": {},
   "outputs": [
    {
     "name": "stdout",
     "output_type": "stream",
     "text": [
      "      Name  Age Department  Salary\n",
      "0    Alice   25         HR   50000\n",
      "1      Bob   30         IT   60000\n",
      "2  Charlie   22         IT   55000\n",
      "\n",
      "Last 2 rows:\n",
      "    Name  Age Department  Salary\n",
      "3  David   27    Finance   70000\n",
      "4   Emma   35         HR   65000\n",
      "\n",
      "Summary Information:\n",
      "<class 'pandas.core.frame.DataFrame'>\n",
      "RangeIndex: 5 entries, 0 to 4\n",
      "Data columns (total 4 columns):\n",
      " #   Column      Non-Null Count  Dtype \n",
      "---  ------      --------------  ----- \n",
      " 0   Name        5 non-null      object\n",
      " 1   Age         5 non-null      int64 \n",
      " 2   Department  5 non-null      object\n",
      " 3   Salary      5 non-null      int64 \n",
      "dtypes: int64(2), object(2)\n",
      "memory usage: 288.0+ bytes\n",
      "\n",
      "Descriptive Statistics:\n",
      "             Age       Salary\n",
      "count   5.000000      5.00000\n",
      "mean   27.800000  60000.00000\n",
      "std     4.969909   7905.69415\n",
      "min    22.000000  50000.00000\n",
      "25%    25.000000  55000.00000\n",
      "50%    27.000000  60000.00000\n",
      "75%    30.000000  65000.00000\n",
      "max    35.000000  70000.00000\n"
     ]
    }
   ],
   "source": [
    "import pandas as pd\n",
    "\n",
    "\n",
    "data = {\n",
    "    'Name': ['Alice', 'Bob', 'Charlie', 'David', 'Emma'],\n",
    "    'Age': [25, 30, 22, 27, 35],\n",
    "    'Department': ['HR', 'IT', 'IT', 'Finance', 'HR'],\n",
    "    'Salary': [50000, 60000, 55000, 70000, 65000]\n",
    "}\n",
    "\n",
    "df = pd.DataFrame(data)\n",
    "\n",
    "print(df.head(3))\n",
    "\n",
    "print(\"\\nLast 2 rows:\")\n",
    "print(df.tail(2))\n",
    "\n",
    "print(\"\\nSummary Information:\")\n",
    "df.info()\n",
    "\n",
    "print(\"\\nDescriptive Statistics:\")\n",
    "print(df.describe())"
   ]
  },
  {
   "cell_type": "code",
   "execution_count": 19,
   "id": "69e2f6f8-f06a-4496-9162-cc8a03e6f436",
   "metadata": {},
   "outputs": [],
   "source": [
    "# Q6. Which of the following is mutable in nature Series, DataFrame, Panel?\n",
    "\n",
    "\n",
    "# In pandas, the DataFrame is mutable in nature, while the Series and Panel are immutable.\n",
    "\n",
    "# 1. **Series**: A pandas Series is a one-dimensional labeled array and is immutable. Once a Series is created, you cannot modify\n",
    "# its size or change the elements directly. You can, however, create a new Series by modifying the existing one.\n",
    "\n",
    "# 2. **DataFrame**: A pandas DataFrame is a two-dimensional labeled data structure, similar to a table or spreadsheet. \n",
    "# It is mutable, meaning you can add, remove, or modify columns and rows. You can change the values in the DataFrame directly,\n",
    "# and the size and structure of the DataFrame can be modified after creation.\n",
    "\n",
    "# 3. **Panel**: A pandas Panel is a three-dimensional labeled data structure. However, as of pandas version 0.25.0, the Panel has been \n",
    "# deprecated and is no longer actively developed. Instead, you are encouraged to use the more flexible multi-indexing features of DataFrames to handle higher-dimensional data.\n",
    "\n",
    "# Since Series is immutable and DataFrame is mutable, the correct answer to the question is:\n",
    "\n",
    "# **Mutable in nature: DataFrame**"
   ]
  },
  {
   "cell_type": "code",
   "execution_count": 20,
   "id": "c9c83800-517b-43ec-9f0b-3802b6226388",
   "metadata": {},
   "outputs": [
    {
     "name": "stdout",
     "output_type": "stream",
     "text": [
      "      Name  Age Department  Salary\n",
      "0    Alice   25         HR   50000\n",
      "1      Bob   30         IT   60000\n",
      "2  Charlie   22         IT   55000\n",
      "3    David   27    Finance   70000\n",
      "4     Emma   35         HR   65000\n"
     ]
    }
   ],
   "source": [
    "# Q7. Create a DataFrame using multiple Series. Explain with an example.\n",
    "\n",
    "\n",
    "employee_names = pd.Series(['Alice', 'Bob', 'Charlie', 'David', 'Emma'])\n",
    "employee_age = pd.Series([25, 30, 22, 27, 35])\n",
    "employee_department = pd.Series(['HR', 'IT', 'IT', 'Finance', 'HR'])\n",
    "employee_salary = pd.Series([50000, 60000, 55000, 70000, 65000])\n",
    "\n",
    "# Creating a DataFrame using the Series\n",
    "data = {\n",
    "    'Name': employee_names,\n",
    "    'Age': employee_age,\n",
    "    'Department': employee_department,\n",
    "    'Salary': employee_salary\n",
    "}\n",
    "\n",
    "df = pd.DataFrame(data)\n",
    "\n",
    "# Printing the DataFrame\n",
    "print(df)\n"
   ]
  },
  {
   "cell_type": "code",
   "execution_count": null,
   "id": "0ca1aa8e-04e8-44ac-9d53-bb39284936b4",
   "metadata": {},
   "outputs": [],
   "source": [
    "\n",
    "employee_names = pd.Series(['Alice', 'Bob', 'Charlie', 'David', 'Emma'],name='fasd')\n",
    "employee_age = pd.Series([25, 30, 22, 27, 35],name='ffqw')\n",
    "employee_department = pd.Series(['HR', 'IT', 'IT', 'Finance', 'HR'],name='dfew')\n",
    "employee_salary = pd.Series([50000, 60000, 55000, 70000, 65000],name)\n",
    "\n",
    "# Creating a DataFrame using the Series\n",
    "data = {\n",
    "    'Name': employee_names,\n",
    "    'Age': employee_age,\n",
    "    'Department': employee_department,\n",
    "    'Salary': employee_salary\n",
    "}\n",
    "\n",
    "df = pd.DataFrame(data)\n",
    "\n",
    "# Printing the DataFrame\n",
    "print(df)"
   ]
  }
 ],
 "metadata": {
  "kernelspec": {
   "display_name": "Python 3 (ipykernel)",
   "language": "python",
   "name": "python3"
  },
  "language_info": {
   "codemirror_mode": {
    "name": "ipython",
    "version": 3
   },
   "file_extension": ".py",
   "mimetype": "text/x-python",
   "name": "python",
   "nbconvert_exporter": "python",
   "pygments_lexer": "ipython3",
   "version": "3.10.8"
  }
 },
 "nbformat": 4,
 "nbformat_minor": 5
}
